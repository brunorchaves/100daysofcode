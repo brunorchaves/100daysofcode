{
 "cells": [
  {
   "cell_type": "markdown",
   "id": "ab9ce93f",
   "metadata": {
    "papermill": {
     "duration": 0.017262,
     "end_time": "2022-02-18T14:54:09.245994",
     "exception": false,
     "start_time": "2022-02-18T14:54:09.228732",
     "status": "completed"
    },
    "tags": []
   },
   "source": [
    "**This notebook is an exercise in the [Intro to Deep Learning](https://www.kaggle.com/learn/intro-to-deep-learning) course.  You can reference the tutorial at [this link](https://www.kaggle.com/ryanholbrook/overfitting-and-underfitting).**\n",
    "\n",
    "---\n"
   ]
  },
  {
   "cell_type": "markdown",
   "id": "bd9f418b",
   "metadata": {
    "papermill": {
     "duration": 0.01593,
     "end_time": "2022-02-18T14:54:09.280072",
     "exception": false,
     "start_time": "2022-02-18T14:54:09.264142",
     "status": "completed"
    },
    "tags": []
   },
   "source": [
    "# Introduction #\n",
    "\n",
    "In this exercise, you’ll learn how to improve training outcomes by including an early stopping callback to prevent overfitting.\n",
    "\n",
    "When you're ready, run this next cell to set everything up!"
   ]
  },
  {
   "cell_type": "code",
   "execution_count": 1,
   "id": "0baa52e4",
   "metadata": {
    "execution": {
     "iopub.execute_input": "2022-02-18T14:54:09.344754Z",
     "iopub.status.busy": "2022-02-18T14:54:09.343228Z",
     "iopub.status.idle": "2022-02-18T14:54:09.379729Z",
     "shell.execute_reply": "2022-02-18T14:54:09.379141Z",
     "shell.execute_reply.started": "2022-02-18T14:38:39.458353Z"
    },
    "papermill": {
     "duration": 0.074091,
     "end_time": "2022-02-18T14:54:09.379862",
     "exception": false,
     "start_time": "2022-02-18T14:54:09.305771",
     "status": "completed"
    },
    "tags": []
   },
   "outputs": [],
   "source": [
    "# Setup plotting\n",
    "import matplotlib.pyplot as plt\n",
    "plt.style.use('seaborn-whitegrid')\n",
    "# Set Matplotlib defaults\n",
    "plt.rc('figure', autolayout=True)\n",
    "plt.rc('axes', labelweight='bold', labelsize='large',\n",
    "       titleweight='bold', titlesize=18, titlepad=10)\n",
    "plt.rc('animation', html='html5')\n",
    "\n",
    "# Setup feedback system\n",
    "from learntools.core import binder\n",
    "binder.bind(globals())\n",
    "from learntools.deep_learning_intro.ex4 import *"
   ]
  },
  {
   "cell_type": "markdown",
   "id": "64e26885",
   "metadata": {
    "papermill": {
     "duration": 0.016147,
     "end_time": "2022-02-18T14:54:09.412614",
     "exception": false,
     "start_time": "2022-02-18T14:54:09.396467",
     "status": "completed"
    },
    "tags": []
   },
   "source": [
    "First load the *Spotify* dataset. Your task will be to predict the popularity of a song based on various audio features, like `'tempo'`, `'danceability'`, and `'mode'`."
   ]
  },
  {
   "cell_type": "code",
   "execution_count": 2,
   "id": "a2c6bb0a",
   "metadata": {
    "execution": {
     "iopub.execute_input": "2022-02-18T14:54:09.455423Z",
     "iopub.status.busy": "2022-02-18T14:54:09.454767Z",
     "iopub.status.idle": "2022-02-18T14:54:15.544690Z",
     "shell.execute_reply": "2022-02-18T14:54:15.545294Z",
     "shell.execute_reply.started": "2022-02-18T14:39:05.506232Z"
    },
    "papermill": {
     "duration": 6.116704,
     "end_time": "2022-02-18T14:54:15.545493",
     "exception": false,
     "start_time": "2022-02-18T14:54:09.428789",
     "status": "completed"
    },
    "tags": []
   },
   "outputs": [
    {
     "name": "stdout",
     "output_type": "stream",
     "text": [
      "Input shape: [18]\n"
     ]
    }
   ],
   "source": [
    "import pandas as pd\n",
    "from sklearn.preprocessing import StandardScaler, OneHotEncoder\n",
    "from sklearn.compose import make_column_transformer\n",
    "from sklearn.model_selection import GroupShuffleSplit\n",
    "\n",
    "from tensorflow import keras\n",
    "from tensorflow.keras import layers\n",
    "from tensorflow.keras import callbacks\n",
    "\n",
    "spotify = pd.read_csv('../input/dl-course-data/spotify.csv')\n",
    "\n",
    "X = spotify.copy().dropna()\n",
    "y = X.pop('track_popularity')\n",
    "artists = X['track_artist']\n",
    "\n",
    "features_num = ['danceability', 'energy', 'key', 'loudness', 'mode',\n",
    "                'speechiness', 'acousticness', 'instrumentalness',\n",
    "                'liveness', 'valence', 'tempo', 'duration_ms']\n",
    "features_cat = ['playlist_genre']\n",
    "\n",
    "preprocessor = make_column_transformer(\n",
    "    (StandardScaler(), features_num),\n",
    "    (OneHotEncoder(), features_cat),\n",
    ")\n",
    "\n",
    "# We'll do a \"grouped\" split to keep all of an artist's songs in one\n",
    "# split or the other. This is to help prevent signal leakage.\n",
    "def group_split(X, y, group, train_size=0.75):\n",
    "    splitter = GroupShuffleSplit(train_size=train_size)\n",
    "    train, test = next(splitter.split(X, y, groups=group))\n",
    "    return (X.iloc[train], X.iloc[test], y.iloc[train], y.iloc[test])\n",
    "\n",
    "X_train, X_valid, y_train, y_valid = group_split(X, y, artists)\n",
    "\n",
    "X_train = preprocessor.fit_transform(X_train)\n",
    "X_valid = preprocessor.transform(X_valid)\n",
    "y_train = y_train / 100 # popularity is on a scale 0-100, so this rescales to 0-1.\n",
    "y_valid = y_valid / 100\n",
    "\n",
    "input_shape = [X_train.shape[1]]\n",
    "print(\"Input shape: {}\".format(input_shape))"
   ]
  },
  {
   "cell_type": "markdown",
   "id": "e1d2be63",
   "metadata": {
    "papermill": {
     "duration": 0.016424,
     "end_time": "2022-02-18T14:54:15.579866",
     "exception": false,
     "start_time": "2022-02-18T14:54:15.563442",
     "status": "completed"
    },
    "tags": []
   },
   "source": [
    "Let's start with the simplest network, a linear model. This model has low capacity.\n",
    "\n",
    "Run this next cell without any changes to train a linear model on the *Spotify* dataset."
   ]
  },
  {
   "cell_type": "code",
   "execution_count": 3,
   "id": "3d176910",
   "metadata": {
    "execution": {
     "iopub.execute_input": "2022-02-18T14:54:15.620711Z",
     "iopub.status.busy": "2022-02-18T14:54:15.620151Z",
     "iopub.status.idle": "2022-02-18T14:54:28.960987Z",
     "shell.execute_reply": "2022-02-18T14:54:28.961432Z",
     "shell.execute_reply.started": "2022-02-18T14:40:50.966663Z"
    },
    "lines_to_next_cell": 0,
    "papermill": {
     "duration": 13.364834,
     "end_time": "2022-02-18T14:54:28.961593",
     "exception": false,
     "start_time": "2022-02-18T14:54:15.596759",
     "status": "completed"
    },
    "tags": []
   },
   "outputs": [
    {
     "name": "stderr",
     "output_type": "stream",
     "text": [
      "2022-02-18 14:54:15.691149: I tensorflow/stream_executor/cuda/cuda_gpu_executor.cc:937] successful NUMA node read from SysFS had negative value (-1), but there must be at least one NUMA node, so returning NUMA node zero\n",
      "2022-02-18 14:54:15.786555: I tensorflow/stream_executor/cuda/cuda_gpu_executor.cc:937] successful NUMA node read from SysFS had negative value (-1), but there must be at least one NUMA node, so returning NUMA node zero\n",
      "2022-02-18 14:54:15.787310: I tensorflow/stream_executor/cuda/cuda_gpu_executor.cc:937] successful NUMA node read from SysFS had negative value (-1), but there must be at least one NUMA node, so returning NUMA node zero\n",
      "2022-02-18 14:54:15.788897: I tensorflow/core/platform/cpu_feature_guard.cc:142] This TensorFlow binary is optimized with oneAPI Deep Neural Network Library (oneDNN) to use the following CPU instructions in performance-critical operations:  AVX2 AVX512F FMA\n",
      "To enable them in other operations, rebuild TensorFlow with the appropriate compiler flags.\n",
      "2022-02-18 14:54:15.789649: I tensorflow/stream_executor/cuda/cuda_gpu_executor.cc:937] successful NUMA node read from SysFS had negative value (-1), but there must be at least one NUMA node, so returning NUMA node zero\n",
      "2022-02-18 14:54:15.790350: I tensorflow/stream_executor/cuda/cuda_gpu_executor.cc:937] successful NUMA node read from SysFS had negative value (-1), but there must be at least one NUMA node, so returning NUMA node zero\n",
      "2022-02-18 14:54:15.791066: I tensorflow/stream_executor/cuda/cuda_gpu_executor.cc:937] successful NUMA node read from SysFS had negative value (-1), but there must be at least one NUMA node, so returning NUMA node zero\n",
      "2022-02-18 14:54:17.743288: I tensorflow/stream_executor/cuda/cuda_gpu_executor.cc:937] successful NUMA node read from SysFS had negative value (-1), but there must be at least one NUMA node, so returning NUMA node zero\n",
      "2022-02-18 14:54:17.744092: I tensorflow/stream_executor/cuda/cuda_gpu_executor.cc:937] successful NUMA node read from SysFS had negative value (-1), but there must be at least one NUMA node, so returning NUMA node zero\n",
      "2022-02-18 14:54:17.744797: I tensorflow/stream_executor/cuda/cuda_gpu_executor.cc:937] successful NUMA node read from SysFS had negative value (-1), but there must be at least one NUMA node, so returning NUMA node zero\n",
      "2022-02-18 14:54:17.745426: I tensorflow/core/common_runtime/gpu/gpu_device.cc:1510] Created device /job:localhost/replica:0/task:0/device:GPU:0 with 15403 MB memory:  -> device: 0, name: Tesla P100-PCIE-16GB, pci bus id: 0000:00:04.0, compute capability: 6.0\n",
      "2022-02-18 14:54:18.146172: I tensorflow/compiler/mlir/mlir_graph_optimization_pass.cc:185] None of the MLIR Optimization Passes are enabled (registered 2)\n"
     ]
    },
    {
     "name": "stdout",
     "output_type": "stream",
     "text": [
      "Minimum Validation Loss: 0.1939\n"
     ]
    },
    {
     "data": {
      "image/png": "[encoded data removed]",
      "text/plain": [
       "<Figure size 432x288 with 1 Axes>"
      ]
     },
     "metadata": {},
     "output_type": "display_data"
    }
   ],
   "source": [
    "model = keras.Sequential([\n",
    "    layers.Dense(1, input_shape=input_shape),\n",
    "])\n",
    "model.compile(\n",
    "    optimizer='adam',\n",
    "    loss='mae',\n",
    ")\n",
    "history = model.fit(\n",
    "    X_train, y_train,\n",
    "    validation_data=(X_valid, y_valid),\n",
    "    batch_size=512,\n",
    "    epochs=50,\n",
    "    verbose=0, # suppress output since we'll plot the curves\n",
    ")\n",
    "history_df = pd.DataFrame(history.history)\n",
    "history_df.loc[0:, ['loss', 'val_loss']].plot()\n",
    "print(\"Minimum Validation Loss: {:0.4f}\".format(history_df['val_loss'].min()));"
   ]
  },
  {
   "cell_type": "markdown",
   "id": "3f2631a2",
   "metadata": {
    "papermill": {
     "duration": 0.019041,
     "end_time": "2022-02-18T14:54:28.999340",
     "exception": false,
     "start_time": "2022-02-18T14:54:28.980299",
     "status": "completed"
    },
    "tags": []
   },
   "source": [
    "It's not uncommon for the curves to follow a \"hockey stick\" pattern like you see here. This makes the final part of training hard to see, so let's start at epoch 10 instead:"
   ]
  },
  {
   "cell_type": "code",
   "execution_count": 4,
   "id": "13b61b47",
   "metadata": {
    "execution": {
     "iopub.execute_input": "2022-02-18T14:54:29.069999Z",
     "iopub.status.busy": "2022-02-18T14:54:29.064318Z",
     "iopub.status.idle": "2022-02-18T14:54:29.332304Z",
     "shell.execute_reply": "2022-02-18T14:54:29.332721Z",
     "shell.execute_reply.started": "2022-02-18T14:41:26.769237Z"
    },
    "papermill": {
     "duration": 0.314629,
     "end_time": "2022-02-18T14:54:29.332867",
     "exception": false,
     "start_time": "2022-02-18T14:54:29.018238",
     "status": "completed"
    },
    "tags": []
   },
   "outputs": [
    {
     "name": "stdout",
     "output_type": "stream",
     "text": [
      "Minimum Validation Loss: 0.1939\n"
     ]
    },
    {
     "data": {
      "image/png": "[encoded data removed]",
      "text/plain": [
       "<Figure size 432x288 with 1 Axes>"
      ]
     },
     "metadata": {},
     "output_type": "display_data"
    }
   ],
   "source": [
    "# Start the plot at epoch 10\n",
    "history_df.loc[10:, ['loss', 'val_loss']].plot()\n",
    "print(\"Minimum Validation Loss: {:0.4f}\".format(history_df['val_loss'].min()));"
   ]
  },
  {
   "cell_type": "markdown",
   "id": "68862aae",
   "metadata": {
    "papermill": {
     "duration": 0.019745,
     "end_time": "2022-02-18T14:54:29.372367",
     "exception": false,
     "start_time": "2022-02-18T14:54:29.352622",
     "status": "completed"
    },
    "tags": []
   },
   "source": [
    "# 1) Evaluate Baseline\n",
    "\n",
    "What do you think? Would you say this model is underfitting, overfitting, just right?"
   ]
  },
  {
   "cell_type": "code",
   "execution_count": 5,
   "id": "81274141",
   "metadata": {
    "execution": {
     "iopub.execute_input": "2022-02-18T14:54:29.417097Z",
     "iopub.status.busy": "2022-02-18T14:54:29.416301Z",
     "iopub.status.idle": "2022-02-18T14:54:29.420518Z",
     "shell.execute_reply": "2022-02-18T14:54:29.420924Z",
     "shell.execute_reply.started": "2022-02-18T14:41:50.378792Z"
    },
    "papermill": {
     "duration": 0.028724,
     "end_time": "2022-02-18T14:54:29.421048",
     "exception": false,
     "start_time": "2022-02-18T14:54:29.392324",
     "status": "completed"
    },
    "tags": []
   },
   "outputs": [
    {
     "data": {
      "application/javascript": [
       "parent.postMessage({\"jupyterEvent\": \"custom.exercise_interaction\", \"data\": {\"outcomeType\": 1, \"valueTowardsCompletion\": 0.25, \"interactionType\": 1, \"questionType\": 4, \"questionId\": \"1_Q1\", \"learnToolsVersion\": \"0.3.4\", \"failureMessage\": \"\", \"exceptionClass\": \"\", \"trace\": \"\"}}, \"*\")"
      ],
      "text/plain": [
       "<IPython.core.display.Javascript object>"
      ]
     },
     "metadata": {},
     "output_type": "display_data"
    },
    {
     "data": {
      "text/markdown": [
       "<span style=\"color:#33cc33\">Correct:</span> \n",
       "\n",
       "The gap between these curves is quite small and the validation loss never increases, so it's more likely that the network is underfitting than overfitting. It would be worth experimenting with more capacity to see if that's the case."
      ],
      "text/plain": [
       "Correct: \n",
       "\n",
       "The gap between these curves is quite small and the validation loss never increases, so it's more likely that the network is underfitting than overfitting. It would be worth experimenting with more capacity to see if that's the case."
      ]
     },
     "metadata": {},
     "output_type": "display_data"
    }
   ],
   "source": [
    "# View the solution (Run this cell to receive credit!)\n",
    "q_1.check()"
   ]
  },
  {
   "cell_type": "markdown",
   "id": "7ab75b85",
   "metadata": {
    "papermill": {
     "duration": 0.020532,
     "end_time": "2022-02-18T14:54:29.462145",
     "exception": false,
     "start_time": "2022-02-18T14:54:29.441613",
     "status": "completed"
    },
    "tags": []
   },
   "source": [
    "Now let's add some capacity to our network. We'll add three hidden layers with 128 units each. Run the next cell to train the network and see the learning curves."
   ]
  },
  {
   "cell_type": "code",
   "execution_count": 6,
   "id": "28c82e62",
   "metadata": {
    "execution": {
     "iopub.execute_input": "2022-02-18T14:54:29.512705Z",
     "iopub.status.busy": "2022-02-18T14:54:29.506998Z",
     "iopub.status.idle": "2022-02-18T14:54:40.309832Z",
     "shell.execute_reply": "2022-02-18T14:54:40.310315Z",
     "shell.execute_reply.started": "2022-02-18T14:42:16.072423Z"
    },
    "papermill": {
     "duration": 10.827677,
     "end_time": "2022-02-18T14:54:40.310513",
     "exception": false,
     "start_time": "2022-02-18T14:54:29.482836",
     "status": "completed"
    },
    "tags": []
   },
   "outputs": [
    {
     "name": "stdout",
     "output_type": "stream",
     "text": [
      "Epoch 1/50\n",
      "49/49 [==============================] - 0s 4ms/step - loss: 0.2197 - val_loss: 0.2008\n",
      "Epoch 2/50\n",
      "49/49 [==============================] - 0s 3ms/step - loss: 0.1988 - val_loss: 0.1962\n",
      "Epoch 3/50\n",
      "49/49 [==============================] - 0s 3ms/step - loss: 0.1949 - val_loss: 0.1950\n",
      "Epoch 4/50\n",
      "49/49 [==============================] - 0s 3ms/step - loss: 0.1923 - val_loss: 0.1946\n",
      "Epoch 5/50\n",
      "49/49 [==============================] - 0s 3ms/step - loss: 0.1904 - val_loss: 0.1956\n",
      "Epoch 6/50\n",
      "49/49 [==============================] - 0s 3ms/step - loss: 0.1893 - val_loss: 0.1952\n",
      "Epoch 7/50\n",
      "49/49 [==============================] - 0s 3ms/step - loss: 0.1881 - val_loss: 0.1949\n",
      "Epoch 8/50\n",
      "49/49 [==============================] - 0s 3ms/step - loss: 0.1868 - val_loss: 0.1952\n",
      "Epoch 9/50\n",
      "49/49 [==============================] - 0s 3ms/step - loss: 0.1858 - val_loss: 0.1945\n",
      "Epoch 10/50\n",
      "49/49 [==============================] - 0s 3ms/step - loss: 0.1852 - val_loss: 0.1959\n",
      "Epoch 11/50\n",
      "49/49 [==============================] - 0s 3ms/step - loss: 0.1843 - val_loss: 0.1964\n",
      "Epoch 12/50\n",
      "49/49 [==============================] - 0s 3ms/step - loss: 0.1840 - val_loss: 0.1961\n",
      "Epoch 13/50\n",
      "49/49 [==============================] - 0s 3ms/step - loss: 0.1833 - val_loss: 0.1961\n",
      "Epoch 14/50\n",
      "49/49 [==============================] - 0s 3ms/step - loss: 0.1829 - val_loss: 0.1949\n",
      "Epoch 15/50\n",
      "49/49 [==============================] - 0s 3ms/step - loss: 0.1816 - val_loss: 0.1961\n",
      "Epoch 16/50\n",
      "49/49 [==============================] - 0s 3ms/step - loss: 0.1816 - val_loss: 0.1943\n",
      "Epoch 17/50\n",
      "49/49 [==============================] - 0s 3ms/step - loss: 0.1806 - val_loss: 0.1959\n",
      "Epoch 18/50\n",
      "49/49 [==============================] - 0s 3ms/step - loss: 0.1801 - val_loss: 0.1963\n",
      "Epoch 19/50\n",
      "49/49 [==============================] - 0s 3ms/step - loss: 0.1796 - val_loss: 0.1986\n",
      "Epoch 20/50\n",
      "49/49 [==============================] - 0s 3ms/step - loss: 0.1796 - val_loss: 0.1956\n",
      "Epoch 21/50\n",
      "49/49 [==============================] - 0s 3ms/step - loss: 0.1787 - val_loss: 0.1960\n",
      "Epoch 22/50\n",
      "49/49 [==============================] - 0s 3ms/step - loss: 0.1776 - val_loss: 0.1958\n",
      "Epoch 23/50\n",
      "49/49 [==============================] - 0s 3ms/step - loss: 0.1775 - val_loss: 0.1982\n",
      "Epoch 24/50\n",
      "49/49 [==============================] - 0s 3ms/step - loss: 0.1778 - val_loss: 0.1965\n",
      "Epoch 25/50\n",
      "49/49 [==============================] - 0s 3ms/step - loss: 0.1767 - val_loss: 0.1964\n",
      "Epoch 26/50\n",
      "49/49 [==============================] - 0s 4ms/step - loss: 0.1753 - val_loss: 0.1967\n",
      "Epoch 27/50\n",
      "49/49 [==============================] - 0s 5ms/step - loss: 0.1752 - val_loss: 0.1966\n",
      "Epoch 28/50\n",
      "49/49 [==============================] - 0s 4ms/step - loss: 0.1752 - val_loss: 0.1970\n",
      "Epoch 29/50\n",
      "49/49 [==============================] - 0s 3ms/step - loss: 0.1741 - val_loss: 0.1969\n",
      "Epoch 30/50\n",
      "49/49 [==============================] - 0s 3ms/step - loss: 0.1743 - val_loss: 0.1986\n",
      "Epoch 31/50\n",
      "49/49 [==============================] - 0s 3ms/step - loss: 0.1741 - val_loss: 0.1984\n",
      "Epoch 32/50\n",
      "49/49 [==============================] - 0s 3ms/step - loss: 0.1737 - val_loss: 0.1974\n",
      "Epoch 33/50\n",
      "49/49 [==============================] - 0s 3ms/step - loss: 0.1730 - val_loss: 0.1977\n",
      "Epoch 34/50\n",
      "49/49 [==============================] - 0s 3ms/step - loss: 0.1719 - val_loss: 0.1983\n",
      "Epoch 35/50\n",
      "49/49 [==============================] - 0s 3ms/step - loss: 0.1721 - val_loss: 0.1995\n",
      "Epoch 36/50\n",
      "49/49 [==============================] - 0s 3ms/step - loss: 0.1716 - val_loss: 0.1990\n",
      "Epoch 37/50\n",
      "49/49 [==============================] - 0s 3ms/step - loss: 0.1706 - val_loss: 0.2006\n",
      "Epoch 38/50\n",
      "49/49 [==============================] - 0s 3ms/step - loss: 0.1709 - val_loss: 0.1986\n",
      "Epoch 39/50\n",
      "49/49 [==============================] - 0s 3ms/step - loss: 0.1703 - val_loss: 0.1994\n",
      "Epoch 40/50\n",
      "49/49 [==============================] - 0s 3ms/step - loss: 0.1694 - val_loss: 0.1986\n",
      "Epoch 41/50\n",
      "49/49 [==============================] - 0s 3ms/step - loss: 0.1690 - val_loss: 0.1990\n",
      "Epoch 42/50\n",
      "49/49 [==============================] - 0s 3ms/step - loss: 0.1691 - val_loss: 0.2000\n",
      "Epoch 43/50\n",
      "49/49 [==============================] - 0s 3ms/step - loss: 0.1684 - val_loss: 0.1996\n",
      "Epoch 44/50\n",
      "49/49 [==============================] - 0s 3ms/step - loss: 0.1675 - val_loss: 0.2014\n",
      "Epoch 45/50\n",
      "49/49 [==============================] - 0s 3ms/step - loss: 0.1677 - val_loss: 0.2012\n",
      "Epoch 46/50\n",
      "49/49 [==============================] - 0s 3ms/step - loss: 0.1684 - val_loss: 0.2012\n",
      "Epoch 47/50\n",
      "49/49 [==============================] - 0s 3ms/step - loss: 0.1681 - val_loss: 0.2006\n",
      "Epoch 48/50\n",
      "49/49 [==============================] - 0s 3ms/step - loss: 0.1664 - val_loss: 0.2000\n",
      "Epoch 49/50\n",
      "49/49 [==============================] - 0s 3ms/step - loss: 0.1662 - val_loss: 0.2006\n",
      "Epoch 50/50\n",
      "49/49 [==============================] - 0s 3ms/step - loss: 0.1664 - val_loss: 0.2024\n",
      "Minimum Validation Loss: 0.1943\n"
     ]
    },
    {
     "data": {
      "image/png": "[encoded data removed]",
      "text/plain": [
       "<Figure size 432x288 with 1 Axes>"
      ]
     },
     "metadata": {},
     "output_type": "display_data"
    }
   ],
   "source": [
    "model = keras.Sequential([\n",
    "    layers.Dense(128, activation='relu', input_shape=input_shape),\n",
    "    layers.Dense(64, activation='relu'),\n",
    "    layers.Dense(1)\n",
    "])\n",
    "model.compile(\n",
    "    optimizer='adam',\n",
    "    loss='mae',\n",
    ")\n",
    "history = model.fit(\n",
    "    X_train, y_train,\n",
    "    validation_data=(X_valid, y_valid),\n",
    "    batch_size=512,\n",
    "    epochs=50,\n",
    ")\n",
    "history_df = pd.DataFrame(history.history)\n",
    "history_df.loc[:, ['loss', 'val_loss']].plot()\n",
    "print(\"Minimum Validation Loss: {:0.4f}\".format(history_df['val_loss'].min()));"
   ]
  },
  {
   "cell_type": "markdown",
   "id": "7df92ac1",
   "metadata": {
    "papermill": {
     "duration": 0.069363,
     "end_time": "2022-02-18T14:54:40.450934",
     "exception": false,
     "start_time": "2022-02-18T14:54:40.381571",
     "status": "completed"
    },
    "tags": []
   },
   "source": [
    "# 2) Add Capacity\n",
    "\n",
    "What is your evaluation of these curves? Underfitting, overfitting, just right?"
   ]
  },
  {
   "cell_type": "code",
   "execution_count": 7,
   "id": "6dd5f9bf",
   "metadata": {
    "execution": {
     "iopub.execute_input": "2022-02-18T14:54:40.595515Z",
     "iopub.status.busy": "2022-02-18T14:54:40.592934Z",
     "iopub.status.idle": "2022-02-18T14:54:40.601410Z",
     "shell.execute_reply": "2022-02-18T14:54:40.600944Z",
     "shell.execute_reply.started": "2022-02-18T14:42:33.726654Z"
    },
    "papermill": {
     "duration": 0.081038,
     "end_time": "2022-02-18T14:54:40.601526",
     "exception": false,
     "start_time": "2022-02-18T14:54:40.520488",
     "status": "completed"
    },
    "tags": []
   },
   "outputs": [
    {
     "data": {
      "application/javascript": [
       "parent.postMessage({\"jupyterEvent\": \"custom.exercise_interaction\", \"data\": {\"outcomeType\": 1, \"valueTowardsCompletion\": 0.25, \"interactionType\": 1, \"questionType\": 4, \"questionId\": \"2_Q2\", \"learnToolsVersion\": \"0.3.4\", \"failureMessage\": \"\", \"exceptionClass\": \"\", \"trace\": \"\"}}, \"*\")"
      ],
      "text/plain": [
       "<IPython.core.display.Javascript object>"
      ]
     },
     "metadata": {},
     "output_type": "display_data"
    },
    {
     "data": {
      "text/markdown": [
       "<span style=\"color:#33cc33\">Correct:</span> \n",
       "\n",
       "Now the validation loss begins to rise very early, while the training loss continues to decrease. This indicates that the network has begun to overfit. At this point, we would need to try something to prevent it, either by reducing the number of units or through a method like early stopping. (We'll see another in the next lesson!)"
      ],
      "text/plain": [
       "Correct: \n",
       "\n",
       "Now the validation loss begins to rise very early, while the training loss continues to decrease. This indicates that the network has begun to overfit. At this point, we would need to try something to prevent it, either by reducing the number of units or through a method like early stopping. (We'll see another in the next lesson!)"
      ]
     },
     "metadata": {},
     "output_type": "display_data"
    }
   ],
   "source": [
    "# View the solution (Run this cell to receive credit!)\n",
    "q_2.check()"
   ]
  },
  {
   "cell_type": "markdown",
   "id": "f07b30d0",
   "metadata": {
    "papermill": {
     "duration": 0.070163,
     "end_time": "2022-02-18T14:54:40.743204",
     "exception": false,
     "start_time": "2022-02-18T14:54:40.673041",
     "status": "completed"
    },
    "tags": []
   },
   "source": [
    "# 3) Define Early Stopping Callback\n",
    "\n",
    "Now define an early stopping callback that waits 5 epochs (`patience'`) for a change in validation loss of at least `0.001` (`min_delta`) and keeps the weights with the best loss (`restore_best_weights`)."
   ]
  },
  {
   "cell_type": "code",
   "execution_count": 8,
   "id": "11ae599d",
   "metadata": {
    "execution": {
     "iopub.execute_input": "2022-02-18T14:54:40.893377Z",
     "iopub.status.busy": "2022-02-18T14:54:40.891598Z",
     "iopub.status.idle": "2022-02-18T14:54:40.897035Z",
     "shell.execute_reply": "2022-02-18T14:54:40.896648Z",
     "shell.execute_reply.started": "2022-02-18T14:43:45.089583Z"
    },
    "lines_to_next_cell": 0,
    "papermill": {
     "duration": 0.083119,
     "end_time": "2022-02-18T14:54:40.897154",
     "exception": false,
     "start_time": "2022-02-18T14:54:40.814035",
     "status": "completed"
    },
    "tags": []
   },
   "outputs": [
    {
     "data": {
      "application/javascript": [
       "parent.postMessage({\"jupyterEvent\": \"custom.exercise_interaction\", \"data\": {\"outcomeType\": 1, \"valueTowardsCompletion\": 0.25, \"interactionType\": 1, \"questionType\": 2, \"questionId\": \"3_Q3\", \"learnToolsVersion\": \"0.3.4\", \"failureMessage\": \"\", \"exceptionClass\": \"\", \"trace\": \"\"}}, \"*\")"
      ],
      "text/plain": [
       "<IPython.core.display.Javascript object>"
      ]
     },
     "metadata": {},
     "output_type": "display_data"
    },
    {
     "data": {
      "text/markdown": [
       "<span style=\"color:#33cc33\">Correct</span>"
      ],
      "text/plain": [
       "Correct"
      ]
     },
     "metadata": {},
     "output_type": "display_data"
    }
   ],
   "source": [
    "from tensorflow.keras import callbacks\n",
    "\n",
    "# YOUR CODE HERE: define an early stopping callback\n",
    "early_stopping = callbacks.EarlyStopping(\n",
    "    min_delta=0.001, # minimium amount of change to count as an improvement\n",
    "    patience=5, # how many epochs to wait before stopping\n",
    "    restore_best_weights=True,\n",
    ")\n",
    "\n",
    "# Check your answer\n",
    "q_3.check()"
   ]
  },
  {
   "cell_type": "code",
   "execution_count": 9,
   "id": "74de10ac",
   "metadata": {
    "execution": {
     "iopub.execute_input": "2022-02-18T14:54:41.044917Z",
     "iopub.status.busy": "2022-02-18T14:54:41.044155Z",
     "iopub.status.idle": "2022-02-18T14:54:41.046602Z",
     "shell.execute_reply": "2022-02-18T14:54:41.046138Z"
    },
    "papermill": {
     "duration": 0.078003,
     "end_time": "2022-02-18T14:54:41.046708",
     "exception": false,
     "start_time": "2022-02-18T14:54:40.968705",
     "status": "completed"
    },
    "tags": []
   },
   "outputs": [],
   "source": [
    "# Lines below will give you a hint or solution code\n",
    "#q_3.hint()\n",
    "#q_3.solution()"
   ]
  },
  {
   "cell_type": "markdown",
   "id": "10af9eed",
   "metadata": {
    "papermill": {
     "duration": 0.071919,
     "end_time": "2022-02-18T14:54:41.190631",
     "exception": false,
     "start_time": "2022-02-18T14:54:41.118712",
     "status": "completed"
    },
    "tags": []
   },
   "source": [
    "Now run this cell to train the model and get the learning curves. Notice the `callbacks` argument in `model.fit`."
   ]
  },
  {
   "cell_type": "code",
   "execution_count": 10,
   "id": "7e385b38",
   "metadata": {
    "execution": {
     "iopub.execute_input": "2022-02-18T14:54:41.343897Z",
     "iopub.status.busy": "2022-02-18T14:54:41.343070Z",
     "iopub.status.idle": "2022-02-18T14:54:43.655332Z",
     "shell.execute_reply": "2022-02-18T14:54:43.654880Z",
     "shell.execute_reply.started": "2022-02-18T14:44:01.562836Z"
    },
    "papermill": {
     "duration": 2.39294,
     "end_time": "2022-02-18T14:54:43.655459",
     "exception": false,
     "start_time": "2022-02-18T14:54:41.262519",
     "status": "completed"
    },
    "tags": []
   },
   "outputs": [
    {
     "name": "stdout",
     "output_type": "stream",
     "text": [
      "Epoch 1/50\n",
      "49/49 [==============================] - 0s 4ms/step - loss: 0.2694 - val_loss: 0.2078\n",
      "Epoch 2/50\n",
      "49/49 [==============================] - 0s 3ms/step - loss: 0.2048 - val_loss: 0.2000\n",
      "Epoch 3/50\n",
      "49/49 [==============================] - 0s 3ms/step - loss: 0.1985 - val_loss: 0.1973\n",
      "Epoch 4/50\n",
      "49/49 [==============================] - 0s 3ms/step - loss: 0.1951 - val_loss: 0.1953\n",
      "Epoch 5/50\n",
      "49/49 [==============================] - 0s 3ms/step - loss: 0.1929 - val_loss: 0.1949\n",
      "Epoch 6/50\n",
      "49/49 [==============================] - 0s 3ms/step - loss: 0.1912 - val_loss: 0.1958\n",
      "Epoch 7/50\n",
      "49/49 [==============================] - 0s 2ms/step - loss: 0.1900 - val_loss: 0.1952\n",
      "Epoch 8/50\n",
      "49/49 [==============================] - 0s 3ms/step - loss: 0.1886 - val_loss: 0.1938\n",
      "Epoch 9/50\n",
      "49/49 [==============================] - 0s 3ms/step - loss: 0.1883 - val_loss: 0.1937\n",
      "Epoch 10/50\n",
      "49/49 [==============================] - 0s 3ms/step - loss: 0.1874 - val_loss: 0.1945\n",
      "Epoch 11/50\n",
      "49/49 [==============================] - 0s 3ms/step - loss: 0.1863 - val_loss: 0.1936\n",
      "Epoch 12/50\n",
      "49/49 [==============================] - 0s 3ms/step - loss: 0.1858 - val_loss: 0.1939\n",
      "Epoch 13/50\n",
      "49/49 [==============================] - 0s 2ms/step - loss: 0.1849 - val_loss: 0.1943\n",
      "Minimum Validation Loss: 0.1936\n"
     ]
    },
    {
     "data": {
      "image/png": "[encoded data removed]",
      "text/plain": [
       "<Figure size 432x288 with 1 Axes>"
      ]
     },
     "metadata": {},
     "output_type": "display_data"
    }
   ],
   "source": [
    "model = keras.Sequential([\n",
    "    layers.Dense(128, activation='relu', input_shape=input_shape),\n",
    "    layers.Dense(64, activation='relu'),    \n",
    "    layers.Dense(1)\n",
    "])\n",
    "model.compile(\n",
    "    optimizer='adam',\n",
    "    loss='mae',\n",
    ")\n",
    "history = model.fit(\n",
    "    X_train, y_train,\n",
    "    validation_data=(X_valid, y_valid),\n",
    "    batch_size=512,\n",
    "    epochs=50,\n",
    "    callbacks=[early_stopping]\n",
    ")\n",
    "history_df = pd.DataFrame(history.history)\n",
    "history_df.loc[:, ['loss', 'val_loss']].plot()\n",
    "print(\"Minimum Validation Loss: {:0.4f}\".format(history_df['val_loss'].min()));"
   ]
  },
  {
   "cell_type": "markdown",
   "id": "3760e126",
   "metadata": {
    "papermill": {
     "duration": 0.087756,
     "end_time": "2022-02-18T14:54:43.829417",
     "exception": false,
     "start_time": "2022-02-18T14:54:43.741661",
     "status": "completed"
    },
    "tags": []
   },
   "source": [
    "# 4) Train and Interpret\n",
    "\n",
    "Was this an improvement compared to training without early stopping?"
   ]
  },
  {
   "cell_type": "code",
   "execution_count": 11,
   "id": "38a6709c",
   "metadata": {
    "execution": {
     "iopub.execute_input": "2022-02-18T14:54:44.008275Z",
     "iopub.status.busy": "2022-02-18T14:54:44.007464Z",
     "iopub.status.idle": "2022-02-18T14:54:44.011940Z",
     "shell.execute_reply": "2022-02-18T14:54:44.012389Z",
     "shell.execute_reply.started": "2022-02-18T14:44:13.457443Z"
    },
    "papermill": {
     "duration": 0.096226,
     "end_time": "2022-02-18T14:54:44.012515",
     "exception": false,
     "start_time": "2022-02-18T14:54:43.916289",
     "status": "completed"
    },
    "tags": []
   },
   "outputs": [
    {
     "data": {
      "application/javascript": [
       "parent.postMessage({\"jupyterEvent\": \"custom.exercise_interaction\", \"data\": {\"outcomeType\": 1, \"valueTowardsCompletion\": 0.25, \"interactionType\": 1, \"questionType\": 4, \"questionId\": \"4_Q4\", \"learnToolsVersion\": \"0.3.4\", \"failureMessage\": \"\", \"exceptionClass\": \"\", \"trace\": \"\"}}, \"*\")"
      ],
      "text/plain": [
       "<IPython.core.display.Javascript object>"
      ]
     },
     "metadata": {},
     "output_type": "display_data"
    },
    {
     "data": {
      "text/markdown": [
       "<span style=\"color:#33cc33\">Correct:</span> \n",
       "\n",
       "The early stopping callback did stop the training once the network began overfitting. Moreover, by including `restore_best_weights` we still get to keep the model where validation loss was lowest."
      ],
      "text/plain": [
       "Correct: \n",
       "\n",
       "The early stopping callback did stop the training once the network began overfitting. Moreover, by including `restore_best_weights` we still get to keep the model where validation loss was lowest."
      ]
     },
     "metadata": {},
     "output_type": "display_data"
    }
   ],
   "source": [
    "# View the solution (Run this cell to receive credit!)\n",
    "q_4.check()"
   ]
  },
  {
   "cell_type": "markdown",
   "id": "2cd2a50b",
   "metadata": {
    "papermill": {
     "duration": 0.087538,
     "end_time": "2022-02-18T14:54:44.186859",
     "exception": false,
     "start_time": "2022-02-18T14:54:44.099321",
     "status": "completed"
    },
    "tags": []
   },
   "source": [
    "If you like, try experimenting with `patience` and `min_delta` to see what difference it might make.\n",
    "\n",
    "# Keep Going #\n",
    "\n",
    "Move on to [**learn about a couple of special layers**](https://www.kaggle.com/ryanholbrook/dropout-and-batch-normalization): batch normalization and dropout."
   ]
  },
  {
   "cell_type": "markdown",
   "id": "eb3f5348",
   "metadata": {
    "papermill": {
     "duration": 0.151462,
     "end_time": "2022-02-18T14:54:44.424910",
     "exception": false,
     "start_time": "2022-02-18T14:54:44.273448",
     "status": "completed"
    },
    "tags": []
   },
   "source": [
    "---\n",
    "\n",
    "\n",
    "\n",
    "\n",
    "*Have questions or comments? Visit the [course discussion forum](https://www.kaggle.com/learn/intro-to-deep-learning/discussion) to chat with other learners.*"
   ]
  }
 ],
 "metadata": {
  "kernelspec": {
   "display_name": "Python 3",
   "language": "python",
   "name": "python3"
  },
  "language_info": {
   "codemirror_mode": {
    "name": "ipython",
    "version": 3
   },
   "file_extension": ".py",
   "mimetype": "text/x-python",
   "name": "python",
   "nbconvert_exporter": "python",
   "pygments_lexer": "ipython3",
   "version": "3.7.12"
  },
  "papermill": {
   "default_parameters": {},
   "duration": 46.38581,
   "end_time": "2022-02-18T14:54:47.622069",
   "environment_variables": {},
   "exception": null,
   "input_path": "__notebook__.ipynb",
   "output_path": "__notebook__.ipynb",
   "parameters": {},
   "start_time": "2022-02-18T14:54:01.236259",
   "version": "2.3.3"
  }
 },
 "nbformat": 4,
 "nbformat_minor": 5
}
